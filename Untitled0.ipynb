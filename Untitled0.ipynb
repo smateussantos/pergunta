{
  "nbformat": 4,
  "nbformat_minor": 0,
  "metadata": {
    "colab": {
      "provenance": [],
      "authorship_tag": "ABX9TyOpu9M3ydxES1vDrcw0dNbk",
      "include_colab_link": true
    },
    "kernelspec": {
      "name": "python3",
      "display_name": "Python 3"
    },
    "language_info": {
      "name": "python"
    }
  },
  "cells": [
    {
      "cell_type": "markdown",
      "metadata": {
        "id": "view-in-github",
        "colab_type": "text"
      },
      "source": [
        "<a href=\"https://colab.research.google.com/github/smateussantos/pergunta/blob/main/Untitled0.ipynb\" target=\"_parent\"><img src=\"https://colab.research.google.com/assets/colab-badge.svg\" alt=\"Open In Colab\"/></a>"
      ]
    },
    {
      "cell_type": "code",
      "execution_count": 4,
      "metadata": {
        "colab": {
          "base_uri": "https://localhost:8080/"
        },
        "id": "A6NHa-0TsR_G",
        "outputId": "c4be361d-3c10-407d-ae07-1c1562486539"
      },
      "outputs": [
        {
          "output_type": "stream",
          "name": "stdout",
          "text": [
            "Qual a capital do Brasil? Brasília\n",
            "Correto! Parabéns!\n"
          ]
        }
      ],
      "source": [
        "# Define a pergunta e a resposta correta\n",
        "pergunta = \"Qual a capital do Brasil?\"\n",
        "resposta_correta = \"Brasília\"\n",
        "resposta_usuario = input(f\"{pergunta} \")\n",
        "if resposta_usuario.lower() == resposta_correta.lower():\n",
        "    print(\"Correto! Parabéns!\")\n",
        "else:\n",
        "    print(f\"Incorreto. A resposta correta é {resposta_correta}.\")\n"
      ]
    }
  ]
}